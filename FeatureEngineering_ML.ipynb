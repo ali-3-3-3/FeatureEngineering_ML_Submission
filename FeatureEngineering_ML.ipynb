{
 "cells": [
  {
   "cell_type": "markdown",
   "metadata": {},
   "source": [
    "# BT Project\n",
    "## Question 1\n",
    "### (a)"
   ]
  },
  {
   "cell_type": "markdown",
   "metadata": {},
   "source": [
    "#### SPECTRAL CLUSTERING ATTEMPT"
   ]
  },
  {
   "cell_type": "code",
   "execution_count": 7,
   "metadata": {},
   "outputs": [
    {
     "name": "stderr",
     "output_type": "stream",
     "text": [
      "c:\\Users\\aliya\\anaconda3\\Lib\\site-packages\\sklearn\\cluster\\_kmeans.py:870: FutureWarning: The default value of `n_init` will change from 10 to 'auto' in 1.4. Set the value of `n_init` explicitly to suppress the warning\n",
      "  warnings.warn(\n",
      "c:\\Users\\aliya\\anaconda3\\Lib\\site-packages\\sklearn\\cluster\\_kmeans.py:1382: UserWarning: KMeans is known to have a memory leak on Windows with MKL, when there are less chunks than available threads. You can avoid it by setting the environment variable OMP_NUM_THREADS=1.\n",
      "  warnings.warn(\n"
     ]
    }
   ],
   "source": [
    "import pandas as pd\n",
    "import numpy as np\n",
    "from sklearn.cluster import KMeans\n",
    "\n",
    "df = pd.read_csv('footballMatch.csv')\n",
    "\n",
    "num_players = df['jersey_number'].nunique()\n",
    "adjacency_matrix = np.zeros((num_players, num_players))\n",
    "current_team = None\n",
    "possession = None\n",
    "\n",
    "for i in range(1, len(df)):\n",
    "    prev_player = df.loc[i-1, 'jersey_number']\n",
    "    current_player = df.loc[i, 'jersey_number']\n",
    "    current_team = df.loc[i, 'Team']\n",
    "    team_a_goals = df.loc[i, 'TeamA_Goals']\n",
    "    team_b_goals = df.loc[i, 'TeamB_Goals']\n",
    "    \n",
    "    if current_team == \"A\":\n",
    "        adjacency_matrix[prev_player - 1, current_player - 1] += 1\n",
    "    else:\n",
    "        adjacency_matrix[current_player - 1, prev_player - 1] += 1\n",
    "\n",
    "k = 2 \n",
    "kmeans = KMeans(n_clusters=k, random_state=0).fit(adjacency_matrix)\n",
    "\n",
    "cluster_labels = kmeans.labels_\n",
    "player_clusters = dict(zip(range(1, num_players + 1), cluster_labels))\n",
    "player_clusters['13'] = 1\n",
    "\n",
    "df['Team'] = df['jersey_number'].map(player_clusters).map({0: 'A', 1: 'B'})\n",
    "\n",
    "df.to_csv('results.csv', index=False)"
   ]
  },
  {
   "cell_type": "markdown",
   "metadata": {},
   "source": [
    "#### CONTEXTUAL ANALYSIS"
   ]
  },
  {
   "cell_type": "code",
   "execution_count": 10,
   "metadata": {},
   "outputs": [
    {
     "name": "stdout",
     "output_type": "stream",
     "text": [
      "Jersey: 1, Team: B\n",
      "Jersey: 2, Team: B\n",
      "Jersey: 3, Team: A\n",
      "Jersey: 4, Team: A\n",
      "Jersey: 5, Team: B\n",
      "Jersey: 7, Team: B\n",
      "Jersey: 8, Team: B\n",
      "Jersey: 9, Team: A\n",
      "Jersey: 10, Team: A\n",
      "Jersey: 11, Team: B\n",
      "Jersey: 12, Team: A\n",
      "Jersey: 14, Team: B\n",
      "Jersey: 15, Team: A\n",
      "Jersey: 16, Team: B\n",
      "Jersey: 17, Team: A\n",
      "Jersey: 18, Team: A\n",
      "Jersey: 19, Team: B\n",
      "Jersey: 20, Team: B\n",
      "Jersey: 21, Team: A\n",
      "Jersey: 22, Team: A\n"
     ]
    }
   ],
   "source": [
    "df = pd.read_csv('footballMatch.csv')\n",
    "\n",
    "jersey_dict = {}\n",
    "prev_a_goals = df.loc[0, 'TeamA_Goals']\n",
    "prev_b_goals = df.loc[0, 'TeamB_Goals']\n",
    "\n",
    "for i in range(1, len(df)):\n",
    "\n",
    "    if df.loc[i, 'TeamA_Goals'] > prev_a_goals:\n",
    "        jersey_dict[df.loc[i, 'jersey_number']] = 'A'\n",
    "        jersey_dict[df.loc[i+1, 'jersey_number']] = 'B'\n",
    "        prev_a_goals = df.loc[i, 'TeamA_Goals']\n",
    "    elif df.loc[i, 'TeamB_Goals'] > prev_b_goals:\n",
    "        jersey_dict[df.loc[i, 'jersey_number']] = 'B'\n",
    "        jersey_dict[df.loc[i+1, 'jersey_number']] = 'A'\n",
    "        prev_b_goals = df.loc[i, 'TeamB_Goals']\n",
    "\n",
    "sorted_jersey_dict = dict(sorted(jersey_dict.items()))\n",
    "\n",
    "for jersey_number, team in sorted_jersey_dict.items():\n",
    "    print(f\"Jersey: {jersey_number}, Team: {team}\")"
   ]
  },
  {
   "cell_type": "markdown",
   "metadata": {},
   "source": [
    "The only jerseys with an undeclared team is jersey_number 6 and 13. \n",
    "\n",
    "As neither either score a goal, or are in possession of the ball after a goal is scored, this means that they are goalkeepers."
   ]
  },
  {
   "cell_type": "code",
   "execution_count": 14,
   "metadata": {},
   "outputs": [],
   "source": [
    "sorted_jersey_dict[6] = 'A'\n",
    "sorted_jersey_dict[13] = 'B'\n",
    "\n",
    "df['Team'] = df['jersey_number'].map(sorted_jersey_dict)\n",
    "\n",
    "\n",
    "df.to_csv('updatedFootballMatch.csv', index=False)"
   ]
  },
  {
   "cell_type": "markdown",
   "metadata": {},
   "source": [
    "### (b)"
   ]
  },
  {
   "cell_type": "markdown",
   "metadata": {},
   "source": [
    "#### Team A\n",
    "GK: 6\n",
    "Defenders: 19, 2\n",
    "Midfielders: 16\n",
    "Forwards:\n",
    "\n",
    "#### Team B\n",
    "GK: 13"
   ]
  },
  {
   "cell_type": "markdown",
   "metadata": {},
   "source": []
  }
 ],
 "metadata": {
  "kernelspec": {
   "display_name": "base",
   "language": "python",
   "name": "python3"
  },
  "language_info": {
   "codemirror_mode": {
    "name": "ipython",
    "version": 3
   },
   "file_extension": ".py",
   "mimetype": "text/x-python",
   "name": "python",
   "nbconvert_exporter": "python",
   "pygments_lexer": "ipython3",
   "version": "3.11.7"
  }
 },
 "nbformat": 4,
 "nbformat_minor": 2
}
